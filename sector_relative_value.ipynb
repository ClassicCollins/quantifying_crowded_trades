{
  "cells": [
    {
      "cell_type": "markdown",
      "metadata": {
        "id": "k6OS7VhjSoyw"
      },
      "source": [
        "# Quantifying Crowded Trades(QCT): A Comprehensive Analysis\n",
        "### sector_relative_value\n",
        "### Collins Emezie Ugwuozor, Jayesh Chandra Gupta, Emmanuel Effiong Asuquo"
      ]
    },
    {
      "cell_type": "code",
      "source": [
        "#Import the neccessary libraries\n",
        "import pandas as pd\n",
        "import numpy as np\n",
        "import seaborn as sns\n",
        "from pandas_datareader import data\n",
        "import yfinance as yf\n",
        "from datetime import datetime\n",
        "from sklearn.preprocessing import StandardScaler\n",
        "from sklearn.decomposition import PCA\n",
        "%matplotlib inline\n",
        "import matplotlib.pyplot as plt\n",
        "import requests\n",
        "from bs4 import BeautifulSoup\n",
        "import yahoo_fin\n",
        "from yahoo_fin import stock_info"
      ],
      "metadata": {
        "id": "dAgVdf4LwjeI"
      },
      "execution_count": 1,
      "outputs": []
    },
    {
      "cell_type": "code",
      "source": [
        "# Pick up table of S&P 500 listed companies from Wikipedia.\n",
        "data = pd.read_html('https://en.wikipedia.org/wiki/List_of_S%26P_500_companies')"
      ],
      "metadata": {
        "id": "qL6T2q1SRTym"
      },
      "execution_count": 3,
      "outputs": []
    },
    {
      "cell_type": "code",
      "execution_count": 4,
      "metadata": {
        "colab": {
          "base_uri": "https://localhost:8080/",
          "height": 206
        },
        "id": "KMeDIEqkSoy2",
        "outputId": "cd63024b-8f42-4743-d951-7c24dce097c7"
      },
      "outputs": [
        {
          "output_type": "execute_result",
          "data": {
            "text/plain": [
              "  Symbol     Security             GICS Sector               GICS Sub-Industry  \\\n",
              "0    MMM           3M             Industrials        Industrial Conglomerates   \n",
              "1    AOS  A. O. Smith             Industrials               Building Products   \n",
              "2    ABT       Abbott             Health Care           Health Care Equipment   \n",
              "3   ABBV       AbbVie             Health Care                 Pharmaceuticals   \n",
              "4    ACN    Accenture  Information Technology  IT Consulting & Other Services   \n",
              "\n",
              "     Headquarters Location  Date added      CIK      Founded  \n",
              "0    Saint Paul, Minnesota  1957-03-04    66740         1902  \n",
              "1     Milwaukee, Wisconsin  2017-07-26    91142         1916  \n",
              "2  North Chicago, Illinois  1957-03-04     1800         1888  \n",
              "3  North Chicago, Illinois  2012-12-31  1551152  2013 (1888)  \n",
              "4          Dublin, Ireland  2011-07-06  1467373         1989  "
            ],
            "text/html": [
              "\n",
              "  <div id=\"df-25e4e135-1d81-4d88-886a-e9390649bb60\" class=\"colab-df-container\">\n",
              "    <div>\n",
              "<style scoped>\n",
              "    .dataframe tbody tr th:only-of-type {\n",
              "        vertical-align: middle;\n",
              "    }\n",
              "\n",
              "    .dataframe tbody tr th {\n",
              "        vertical-align: top;\n",
              "    }\n",
              "\n",
              "    .dataframe thead th {\n",
              "        text-align: right;\n",
              "    }\n",
              "</style>\n",
              "<table border=\"1\" class=\"dataframe\">\n",
              "  <thead>\n",
              "    <tr style=\"text-align: right;\">\n",
              "      <th></th>\n",
              "      <th>Symbol</th>\n",
              "      <th>Security</th>\n",
              "      <th>GICS Sector</th>\n",
              "      <th>GICS Sub-Industry</th>\n",
              "      <th>Headquarters Location</th>\n",
              "      <th>Date added</th>\n",
              "      <th>CIK</th>\n",
              "      <th>Founded</th>\n",
              "    </tr>\n",
              "  </thead>\n",
              "  <tbody>\n",
              "    <tr>\n",
              "      <th>0</th>\n",
              "      <td>MMM</td>\n",
              "      <td>3M</td>\n",
              "      <td>Industrials</td>\n",
              "      <td>Industrial Conglomerates</td>\n",
              "      <td>Saint Paul, Minnesota</td>\n",
              "      <td>1957-03-04</td>\n",
              "      <td>66740</td>\n",
              "      <td>1902</td>\n",
              "    </tr>\n",
              "    <tr>\n",
              "      <th>1</th>\n",
              "      <td>AOS</td>\n",
              "      <td>A. O. Smith</td>\n",
              "      <td>Industrials</td>\n",
              "      <td>Building Products</td>\n",
              "      <td>Milwaukee, Wisconsin</td>\n",
              "      <td>2017-07-26</td>\n",
              "      <td>91142</td>\n",
              "      <td>1916</td>\n",
              "    </tr>\n",
              "    <tr>\n",
              "      <th>2</th>\n",
              "      <td>ABT</td>\n",
              "      <td>Abbott</td>\n",
              "      <td>Health Care</td>\n",
              "      <td>Health Care Equipment</td>\n",
              "      <td>North Chicago, Illinois</td>\n",
              "      <td>1957-03-04</td>\n",
              "      <td>1800</td>\n",
              "      <td>1888</td>\n",
              "    </tr>\n",
              "    <tr>\n",
              "      <th>3</th>\n",
              "      <td>ABBV</td>\n",
              "      <td>AbbVie</td>\n",
              "      <td>Health Care</td>\n",
              "      <td>Pharmaceuticals</td>\n",
              "      <td>North Chicago, Illinois</td>\n",
              "      <td>2012-12-31</td>\n",
              "      <td>1551152</td>\n",
              "      <td>2013 (1888)</td>\n",
              "    </tr>\n",
              "    <tr>\n",
              "      <th>4</th>\n",
              "      <td>ACN</td>\n",
              "      <td>Accenture</td>\n",
              "      <td>Information Technology</td>\n",
              "      <td>IT Consulting &amp; Other Services</td>\n",
              "      <td>Dublin, Ireland</td>\n",
              "      <td>2011-07-06</td>\n",
              "      <td>1467373</td>\n",
              "      <td>1989</td>\n",
              "    </tr>\n",
              "  </tbody>\n",
              "</table>\n",
              "</div>\n",
              "    <div class=\"colab-df-buttons\">\n",
              "\n",
              "  <div class=\"colab-df-container\">\n",
              "    <button class=\"colab-df-convert\" onclick=\"convertToInteractive('df-25e4e135-1d81-4d88-886a-e9390649bb60')\"\n",
              "            title=\"Convert this dataframe to an interactive table.\"\n",
              "            style=\"display:none;\">\n",
              "\n",
              "  <svg xmlns=\"http://www.w3.org/2000/svg\" height=\"24px\" viewBox=\"0 -960 960 960\">\n",
              "    <path d=\"M120-120v-720h720v720H120Zm60-500h600v-160H180v160Zm220 220h160v-160H400v160Zm0 220h160v-160H400v160ZM180-400h160v-160H180v160Zm440 0h160v-160H620v160ZM180-180h160v-160H180v160Zm440 0h160v-160H620v160Z\"/>\n",
              "  </svg>\n",
              "    </button>\n",
              "\n",
              "  <style>\n",
              "    .colab-df-container {\n",
              "      display:flex;\n",
              "      gap: 12px;\n",
              "    }\n",
              "\n",
              "    .colab-df-convert {\n",
              "      background-color: #E8F0FE;\n",
              "      border: none;\n",
              "      border-radius: 50%;\n",
              "      cursor: pointer;\n",
              "      display: none;\n",
              "      fill: #1967D2;\n",
              "      height: 32px;\n",
              "      padding: 0 0 0 0;\n",
              "      width: 32px;\n",
              "    }\n",
              "\n",
              "    .colab-df-convert:hover {\n",
              "      background-color: #E2EBFA;\n",
              "      box-shadow: 0px 1px 2px rgba(60, 64, 67, 0.3), 0px 1px 3px 1px rgba(60, 64, 67, 0.15);\n",
              "      fill: #174EA6;\n",
              "    }\n",
              "\n",
              "    .colab-df-buttons div {\n",
              "      margin-bottom: 4px;\n",
              "    }\n",
              "\n",
              "    [theme=dark] .colab-df-convert {\n",
              "      background-color: #3B4455;\n",
              "      fill: #D2E3FC;\n",
              "    }\n",
              "\n",
              "    [theme=dark] .colab-df-convert:hover {\n",
              "      background-color: #434B5C;\n",
              "      box-shadow: 0px 1px 3px 1px rgba(0, 0, 0, 0.15);\n",
              "      filter: drop-shadow(0px 1px 2px rgba(0, 0, 0, 0.3));\n",
              "      fill: #FFFFFF;\n",
              "    }\n",
              "  </style>\n",
              "\n",
              "    <script>\n",
              "      const buttonEl =\n",
              "        document.querySelector('#df-25e4e135-1d81-4d88-886a-e9390649bb60 button.colab-df-convert');\n",
              "      buttonEl.style.display =\n",
              "        google.colab.kernel.accessAllowed ? 'block' : 'none';\n",
              "\n",
              "      async function convertToInteractive(key) {\n",
              "        const element = document.querySelector('#df-25e4e135-1d81-4d88-886a-e9390649bb60');\n",
              "        const dataTable =\n",
              "          await google.colab.kernel.invokeFunction('convertToInteractive',\n",
              "                                                    [key], {});\n",
              "        if (!dataTable) return;\n",
              "\n",
              "        const docLinkHtml = 'Like what you see? Visit the ' +\n",
              "          '<a target=\"_blank\" href=https://colab.research.google.com/notebooks/data_table.ipynb>data table notebook</a>'\n",
              "          + ' to learn more about interactive tables.';\n",
              "        element.innerHTML = '';\n",
              "        dataTable['output_type'] = 'display_data';\n",
              "        await google.colab.output.renderOutput(dataTable, element);\n",
              "        const docLink = document.createElement('div');\n",
              "        docLink.innerHTML = docLinkHtml;\n",
              "        element.appendChild(docLink);\n",
              "      }\n",
              "    </script>\n",
              "  </div>\n",
              "\n",
              "\n",
              "<div id=\"df-8bff8c29-5392-4a8a-a5bf-687016e3aec5\">\n",
              "  <button class=\"colab-df-quickchart\" onclick=\"quickchart('df-8bff8c29-5392-4a8a-a5bf-687016e3aec5')\"\n",
              "            title=\"Suggest charts\"\n",
              "            style=\"display:none;\">\n",
              "\n",
              "<svg xmlns=\"http://www.w3.org/2000/svg\" height=\"24px\"viewBox=\"0 0 24 24\"\n",
              "     width=\"24px\">\n",
              "    <g>\n",
              "        <path d=\"M19 3H5c-1.1 0-2 .9-2 2v14c0 1.1.9 2 2 2h14c1.1 0 2-.9 2-2V5c0-1.1-.9-2-2-2zM9 17H7v-7h2v7zm4 0h-2V7h2v10zm4 0h-2v-4h2v4z\"/>\n",
              "    </g>\n",
              "</svg>\n",
              "  </button>\n",
              "\n",
              "<style>\n",
              "  .colab-df-quickchart {\n",
              "      --bg-color: #E8F0FE;\n",
              "      --fill-color: #1967D2;\n",
              "      --hover-bg-color: #E2EBFA;\n",
              "      --hover-fill-color: #174EA6;\n",
              "      --disabled-fill-color: #AAA;\n",
              "      --disabled-bg-color: #DDD;\n",
              "  }\n",
              "\n",
              "  [theme=dark] .colab-df-quickchart {\n",
              "      --bg-color: #3B4455;\n",
              "      --fill-color: #D2E3FC;\n",
              "      --hover-bg-color: #434B5C;\n",
              "      --hover-fill-color: #FFFFFF;\n",
              "      --disabled-bg-color: #3B4455;\n",
              "      --disabled-fill-color: #666;\n",
              "  }\n",
              "\n",
              "  .colab-df-quickchart {\n",
              "    background-color: var(--bg-color);\n",
              "    border: none;\n",
              "    border-radius: 50%;\n",
              "    cursor: pointer;\n",
              "    display: none;\n",
              "    fill: var(--fill-color);\n",
              "    height: 32px;\n",
              "    padding: 0;\n",
              "    width: 32px;\n",
              "  }\n",
              "\n",
              "  .colab-df-quickchart:hover {\n",
              "    background-color: var(--hover-bg-color);\n",
              "    box-shadow: 0 1px 2px rgba(60, 64, 67, 0.3), 0 1px 3px 1px rgba(60, 64, 67, 0.15);\n",
              "    fill: var(--button-hover-fill-color);\n",
              "  }\n",
              "\n",
              "  .colab-df-quickchart-complete:disabled,\n",
              "  .colab-df-quickchart-complete:disabled:hover {\n",
              "    background-color: var(--disabled-bg-color);\n",
              "    fill: var(--disabled-fill-color);\n",
              "    box-shadow: none;\n",
              "  }\n",
              "\n",
              "  .colab-df-spinner {\n",
              "    border: 2px solid var(--fill-color);\n",
              "    border-color: transparent;\n",
              "    border-bottom-color: var(--fill-color);\n",
              "    animation:\n",
              "      spin 1s steps(1) infinite;\n",
              "  }\n",
              "\n",
              "  @keyframes spin {\n",
              "    0% {\n",
              "      border-color: transparent;\n",
              "      border-bottom-color: var(--fill-color);\n",
              "      border-left-color: var(--fill-color);\n",
              "    }\n",
              "    20% {\n",
              "      border-color: transparent;\n",
              "      border-left-color: var(--fill-color);\n",
              "      border-top-color: var(--fill-color);\n",
              "    }\n",
              "    30% {\n",
              "      border-color: transparent;\n",
              "      border-left-color: var(--fill-color);\n",
              "      border-top-color: var(--fill-color);\n",
              "      border-right-color: var(--fill-color);\n",
              "    }\n",
              "    40% {\n",
              "      border-color: transparent;\n",
              "      border-right-color: var(--fill-color);\n",
              "      border-top-color: var(--fill-color);\n",
              "    }\n",
              "    60% {\n",
              "      border-color: transparent;\n",
              "      border-right-color: var(--fill-color);\n",
              "    }\n",
              "    80% {\n",
              "      border-color: transparent;\n",
              "      border-right-color: var(--fill-color);\n",
              "      border-bottom-color: var(--fill-color);\n",
              "    }\n",
              "    90% {\n",
              "      border-color: transparent;\n",
              "      border-bottom-color: var(--fill-color);\n",
              "    }\n",
              "  }\n",
              "</style>\n",
              "\n",
              "  <script>\n",
              "    async function quickchart(key) {\n",
              "      const quickchartButtonEl =\n",
              "        document.querySelector('#' + key + ' button');\n",
              "      quickchartButtonEl.disabled = true;  // To prevent multiple clicks.\n",
              "      quickchartButtonEl.classList.add('colab-df-spinner');\n",
              "      try {\n",
              "        const charts = await google.colab.kernel.invokeFunction(\n",
              "            'suggestCharts', [key], {});\n",
              "      } catch (error) {\n",
              "        console.error('Error during call to suggestCharts:', error);\n",
              "      }\n",
              "      quickchartButtonEl.classList.remove('colab-df-spinner');\n",
              "      quickchartButtonEl.classList.add('colab-df-quickchart-complete');\n",
              "    }\n",
              "    (() => {\n",
              "      let quickchartButtonEl =\n",
              "        document.querySelector('#df-8bff8c29-5392-4a8a-a5bf-687016e3aec5 button');\n",
              "      quickchartButtonEl.style.display =\n",
              "        google.colab.kernel.accessAllowed ? 'block' : 'none';\n",
              "    })();\n",
              "  </script>\n",
              "</div>\n",
              "    </div>\n",
              "  </div>\n"
            ]
          },
          "metadata": {},
          "execution_count": 4
        }
      ],
      "source": [
        "table = data[0]\n",
        "table.head()"
      ]
    },
    {
      "cell_type": "code",
      "execution_count": 5,
      "metadata": {
        "colab": {
          "base_uri": "https://localhost:8080/"
        },
        "id": "AQT5K1UySoy4",
        "outputId": "f4caa9db-7609-4ad6-e979-14950cfd62fc"
      },
      "outputs": [
        {
          "output_type": "execute_result",
          "data": {
            "text/plain": [
              "array(['Industrials', 'Health Care', 'Information Technology',\n",
              "       'Consumer Staples', 'Utilities', 'Financials',\n",
              "       'Consumer Discretionary', 'Materials', 'Real Estate',\n",
              "       'Communication Services', 'Energy'], dtype=object)"
            ]
          },
          "metadata": {},
          "execution_count": 5
        }
      ],
      "source": [
        "table['GICS Sector'].unique()"
      ]
    },
    {
      "cell_type": "code",
      "execution_count": 6,
      "metadata": {
        "id": "wV6oWtR_Soy5"
      },
      "outputs": [],
      "source": [
        "# Select sectors of S&P 500\n",
        "industrials_sector = table[table['GICS Sector'] == 'Industrials'] # XLI\n",
        "health_sector = table[table['GICS Sector'] == 'Health Care'] # XLV\n",
        "tech_sector = table[table['GICS Sector'] == 'Information Technology'] # XLK\n",
        "consumer_staples_sector = table[table['GICS Sector'] == 'Consumer Staples'] # XLP\n",
        "utilities_sector = table[table['GICS Sector'] == 'Utilities'] # XLU\n",
        "financial_sector = table[table['GICS Sector'] == 'Financials'] # XLF\n",
        "consumer_discretionary_sector = table[table['GICS Sector'] == 'Consumer Discretionary'] # XLY\n",
        "materials_sector = table[table['GICS Sector'] == 'Materials'] # XLB\n",
        "real_estate_sector = table[table['GICS Sector'] == 'Real Estate'] # XLRE\n",
        "communication_services_sector = table[table['GICS Sector'] == 'Communication Services'] # XLC *XTL\n",
        "energy_sector = table[table['GICS Sector'] == 'Energy'] # XLE"
      ]
    },
    {
      "cell_type": "code",
      "execution_count": 7,
      "metadata": {
        "id": "Ceipf7sfSoy6"
      },
      "outputs": [],
      "source": [
        "# Define dates for five year historical prices\n",
        "start_date = \"2018-01-01\"\n",
        "end_date = \"2023-01-01\""
      ]
    },
    {
      "cell_type": "code",
      "execution_count": 8,
      "metadata": {
        "id": "ZfRiVd_7Soy7"
      },
      "outputs": [],
      "source": [
        "# Sector ETFs for centrality across sectors\n",
        "symbols = ['XLB', 'XLI', 'XLY', 'XLP', 'XLE', 'XLV', 'XLF', 'XLK', 'XTL', 'XLU', 'XLRE']"
      ]
    },
    {
      "cell_type": "code",
      "source": [
        "# Sector's Mkt Cap (USD m) picked manually From bloomberg\n",
        "market_cap = [5150,37211,29320,14101,52475,15373,4368,13622,35850,16512,48]"
      ],
      "metadata": {
        "id": "ysBgXoOPGjdU"
      },
      "execution_count": 9,
      "outputs": []
    },
    {
      "cell_type": "markdown",
      "source": [
        "### Relative Value"
      ],
      "metadata": {
        "id": "apfUodqaHUwx"
      }
    },
    {
      "cell_type": "markdown",
      "source": [
        "$$RV_{sector} =  (Sector-Current-Price)/(Sector-200Day-SMA)/(MktCap-weighted-Ave-of Normalized Valuations Across All Sectors) $$\n",
        "\n",
        "- $RV$ = Relative Value"
      ],
      "metadata": {
        "id": "_zaB8EX4PeCa"
      }
    },
    {
      "cell_type": "markdown",
      "source": [
        "ACROSS SECTORS:\n",
        "- We will use the current price of the sector\n",
        "- The price will be normalize by dividing it by the sector's 200 Day SMA\n",
        "- We will further divide each sector's current market cap by market cap weighted average of the normalized value of all sectors to establish a cross-sectional relative value measure\n"
      ],
      "metadata": {
        "id": "qWWrAPhYHbyN"
      }
    },
    {
      "cell_type": "code",
      "source": [
        "# Getting current price of the sector from yahoo finance\n",
        "sectors = symbols\n",
        "sector_current_price=[]\n",
        "for sector in sectors:\n",
        "    print(sector)\n",
        "    try:\n",
        "       sector_current_price.append(yahoo_fin.stock_info.get_live_price(sector))\n",
        "    except:\n",
        "        print('Yahoo Finance current price error with: ', sector)"
      ],
      "metadata": {
        "colab": {
          "base_uri": "https://localhost:8080/"
        },
        "id": "QKJgk409HeOW",
        "outputId": "48fcc76a-2787-4399-ce92-cd68be0e7607"
      },
      "execution_count": 10,
      "outputs": [
        {
          "output_type": "stream",
          "name": "stdout",
          "text": [
            "XLB\n",
            "XLI\n",
            "XLY\n",
            "XLP\n",
            "XLE\n",
            "XLV\n",
            "XLF\n",
            "XLK\n",
            "XTL\n",
            "XLU\n",
            "XLRE\n"
          ]
        }
      ]
    },
    {
      "cell_type": "code",
      "source": [
        "sector_current_price"
      ],
      "metadata": {
        "colab": {
          "base_uri": "https://localhost:8080/"
        },
        "id": "Zp6GSgHpIeX7",
        "outputId": "fdded7cf-145c-4760-94f6-50f70fccb62b"
      },
      "execution_count": 11,
      "outputs": [
        {
          "output_type": "execute_result",
          "data": {
            "text/plain": [
              "[80.7699966430664,\n",
              " 106.08000183105469,\n",
              " 168.0800018310547,\n",
              " 70.1500015258789,\n",
              " 84.58000183105469,\n",
              " 130.42999267578125,\n",
              " 35.27000045776367,\n",
              " 184.77000427246094,\n",
              " 69.8019027709961,\n",
              " 62.529998779296875,\n",
              " 36.18000030517578]"
            ]
          },
          "metadata": {},
          "execution_count": 11
        }
      ]
    },
    {
      "cell_type": "code",
      "source": [
        "# Getting sector's 200 Day SMA from yahoo finance\n",
        "sectors = symbols\n",
        "sector_200DaySMA=[]\n",
        "for sector in sectors:\n",
        "    print(sector)\n",
        "    try:\n",
        "       sector_200DaySMA.append(yahoo_fin.stock_info.get_data(sector, interval='1d')['close'][-200:].mean())\n",
        "    except:\n",
        "        print('Sector_200DaySMA error with: ', sector)"
      ],
      "metadata": {
        "colab": {
          "base_uri": "https://localhost:8080/"
        },
        "id": "itM0iymCJ0nE",
        "outputId": "c9225eaf-73d8-4a24-d06f-361c1d5c1598"
      },
      "execution_count": 12,
      "outputs": [
        {
          "output_type": "stream",
          "name": "stdout",
          "text": [
            "XLB\n",
            "XLI\n",
            "XLY\n",
            "XLP\n",
            "XLE\n",
            "XLV\n",
            "XLF\n",
            "XLK\n",
            "XTL\n",
            "XLU\n",
            "XLRE\n"
          ]
        }
      ]
    },
    {
      "cell_type": "code",
      "source": [
        "sector_200DaySMA"
      ],
      "metadata": {
        "colab": {
          "base_uri": "https://localhost:8080/"
        },
        "id": "-G_vUmNNKFHn",
        "outputId": "e341baee-a178-4fd9-97ae-798b0b9af06a"
      },
      "execution_count": 13,
      "outputs": [
        {
          "output_type": "execute_result",
          "data": {
            "text/plain": [
              "[80.0763500213623,\n",
              " 102.76035026550294,\n",
              " 157.83829925537108,\n",
              " 72.72189990997315,\n",
              " 84.7016502380371,\n",
              " 130.77245048522948,\n",
              " 33.598299999237064,\n",
              " 161.539400100708,\n",
              " 74.30875946044922,\n",
              " 64.80655012130737,\n",
              " 36.55230001449585]"
            ]
          },
          "metadata": {},
          "execution_count": 13
        }
      ]
    },
    {
      "cell_type": "code",
      "source": [
        "#Normalized by dividing it's current price with the sector's 200 Day SMA\n",
        "normalize=[]\n",
        "for i in range(11):\n",
        "    normalize.append(sector_current_price[i]/sector_200DaySMA[i])\n",
        "normalize"
      ],
      "metadata": {
        "colab": {
          "base_uri": "https://localhost:8080/"
        },
        "id": "VZFgtreBKLyT",
        "outputId": "d505f6f2-9169-407d-e42f-f4cff5e6e2b1"
      },
      "execution_count": 14,
      "outputs": [
        {
          "output_type": "execute_result",
          "data": {
            "text/plain": [
              "[1.0086623156714694,\n",
              " 1.032304790290951,\n",
              " 1.064887309505998,\n",
              " 0.9646337844957551,\n",
              " 0.9985638012170891,\n",
              " 0.9973812694632734,\n",
              " 1.049755507229966,\n",
              " 1.143807666471897,\n",
              " 0.9393495905169578,\n",
              " 0.9648715857000696,\n",
              " 0.9898146023869244]"
            ]
          },
          "metadata": {},
          "execution_count": 14
        }
      ]
    },
    {
      "cell_type": "code",
      "source": [
        "weights=[]\n",
        "for i in range(11):\n",
        "    weights.append(market_cap[i]/(np.array(market_cap)).sum())\n",
        "weights"
      ],
      "metadata": {
        "colab": {
          "base_uri": "https://localhost:8080/"
        },
        "id": "NyCTz4x-KT_w",
        "outputId": "db2de85b-c154-4962-d0b5-2a48c903c660"
      },
      "execution_count": 15,
      "outputs": [
        {
          "output_type": "execute_result",
          "data": {
            "text/plain": [
              "[0.022987992679551844,\n",
              " 0.1660982904075347,\n",
              " 0.13087532919698255,\n",
              " 0.06294246306298264,\n",
              " 0.23423202249698702,\n",
              " 0.068620274070437,\n",
              " 0.019497388742579117,\n",
              " 0.060804356559389365,\n",
              " 0.1600232111770745,\n",
              " 0.07370441458733205,\n",
              " 0.0002142570191492211]"
            ]
          },
          "metadata": {},
          "execution_count": 15
        }
      ]
    },
    {
      "cell_type": "code",
      "source": [
        "weights = np.array(weights)"
      ],
      "metadata": {
        "id": "efqal0eWKhnq"
      },
      "execution_count": 16,
      "outputs": []
    },
    {
      "cell_type": "code",
      "source": [
        "# Establish a cross-sectional relative value measure\n",
        "relative_measure=[]\n",
        "for i in range(10):\n",
        "    relative_measure.append(normalize[i]/weights.mean())\n",
        "relative_measure"
      ],
      "metadata": {
        "colab": {
          "base_uri": "https://localhost:8080/"
        },
        "id": "dL9f0VusK0x5",
        "outputId": "94034c65-64ad-47cd-b3d9-f731577d4af4"
      },
      "execution_count": 17,
      "outputs": [
        {
          "output_type": "execute_result",
          "data": {
            "text/plain": [
              "[11.095285472386163,\n",
              " 11.35535269320046,\n",
              " 11.713760404565978,\n",
              " 10.610971629453307,\n",
              " 10.98420181338798,\n",
              " 10.971193964096008,\n",
              " 11.547310579529626,\n",
              " 12.581884331190867,\n",
              " 10.332845495686534,\n",
              " 10.613587442700766]"
            ]
          },
          "metadata": {},
          "execution_count": 17
        }
      ]
    },
    {
      "cell_type": "code",
      "source": [
        "relative_scores = dict(zip(symbols, [np.around(r,3) for r in relative_measure]))"
      ],
      "metadata": {
        "id": "pF8p4LxPK35j"
      },
      "execution_count": 18,
      "outputs": []
    },
    {
      "cell_type": "code",
      "source": [
        "relative_scores"
      ],
      "metadata": {
        "colab": {
          "base_uri": "https://localhost:8080/"
        },
        "id": "zKx9tjA3LcPb",
        "outputId": "23986483-1203-429b-d95b-83fa41b126ff"
      },
      "execution_count": 19,
      "outputs": [
        {
          "output_type": "execute_result",
          "data": {
            "text/plain": [
              "{'XLB': 11.095,\n",
              " 'XLI': 11.355,\n",
              " 'XLY': 11.714,\n",
              " 'XLP': 10.611,\n",
              " 'XLE': 10.984,\n",
              " 'XLV': 10.971,\n",
              " 'XLF': 11.547,\n",
              " 'XLK': 12.582,\n",
              " 'XTL': 10.333,\n",
              " 'XLU': 10.614}"
            ]
          },
          "metadata": {},
          "execution_count": 19
        }
      ]
    },
    {
      "cell_type": "code",
      "source": [
        "# Create a dataframe of computed scores\n",
        "for asset in relative_scores:\n",
        "    relative_scores[asset] = [relative_scores[asset]]\n",
        "scores_df = pd.DataFrame(data = relative_scores, index=['Weighted_score'])\n",
        "scores_df"
      ],
      "metadata": {
        "colab": {
          "base_uri": "https://localhost:8080/",
          "height": 80
        },
        "id": "ZL54uMgaLgjX",
        "outputId": "d069798b-8c83-491c-e0fa-ae6958c7d78f"
      },
      "execution_count": 20,
      "outputs": [
        {
          "output_type": "execute_result",
          "data": {
            "text/plain": [
              "                   XLB     XLI     XLY     XLP     XLE     XLV     XLF  \\\n",
              "Weighted_score  11.095  11.355  11.714  10.611  10.984  10.971  11.547   \n",
              "\n",
              "                   XLK     XTL     XLU  \n",
              "Weighted_score  12.582  10.333  10.614  "
            ],
            "text/html": [
              "\n",
              "  <div id=\"df-b20be91b-649e-4ed7-ade8-f9a205776ab8\" class=\"colab-df-container\">\n",
              "    <div>\n",
              "<style scoped>\n",
              "    .dataframe tbody tr th:only-of-type {\n",
              "        vertical-align: middle;\n",
              "    }\n",
              "\n",
              "    .dataframe tbody tr th {\n",
              "        vertical-align: top;\n",
              "    }\n",
              "\n",
              "    .dataframe thead th {\n",
              "        text-align: right;\n",
              "    }\n",
              "</style>\n",
              "<table border=\"1\" class=\"dataframe\">\n",
              "  <thead>\n",
              "    <tr style=\"text-align: right;\">\n",
              "      <th></th>\n",
              "      <th>XLB</th>\n",
              "      <th>XLI</th>\n",
              "      <th>XLY</th>\n",
              "      <th>XLP</th>\n",
              "      <th>XLE</th>\n",
              "      <th>XLV</th>\n",
              "      <th>XLF</th>\n",
              "      <th>XLK</th>\n",
              "      <th>XTL</th>\n",
              "      <th>XLU</th>\n",
              "    </tr>\n",
              "  </thead>\n",
              "  <tbody>\n",
              "    <tr>\n",
              "      <th>Weighted_score</th>\n",
              "      <td>11.095</td>\n",
              "      <td>11.355</td>\n",
              "      <td>11.714</td>\n",
              "      <td>10.611</td>\n",
              "      <td>10.984</td>\n",
              "      <td>10.971</td>\n",
              "      <td>11.547</td>\n",
              "      <td>12.582</td>\n",
              "      <td>10.333</td>\n",
              "      <td>10.614</td>\n",
              "    </tr>\n",
              "  </tbody>\n",
              "</table>\n",
              "</div>\n",
              "    <div class=\"colab-df-buttons\">\n",
              "\n",
              "  <div class=\"colab-df-container\">\n",
              "    <button class=\"colab-df-convert\" onclick=\"convertToInteractive('df-b20be91b-649e-4ed7-ade8-f9a205776ab8')\"\n",
              "            title=\"Convert this dataframe to an interactive table.\"\n",
              "            style=\"display:none;\">\n",
              "\n",
              "  <svg xmlns=\"http://www.w3.org/2000/svg\" height=\"24px\" viewBox=\"0 -960 960 960\">\n",
              "    <path d=\"M120-120v-720h720v720H120Zm60-500h600v-160H180v160Zm220 220h160v-160H400v160Zm0 220h160v-160H400v160ZM180-400h160v-160H180v160Zm440 0h160v-160H620v160ZM180-180h160v-160H180v160Zm440 0h160v-160H620v160Z\"/>\n",
              "  </svg>\n",
              "    </button>\n",
              "\n",
              "  <style>\n",
              "    .colab-df-container {\n",
              "      display:flex;\n",
              "      gap: 12px;\n",
              "    }\n",
              "\n",
              "    .colab-df-convert {\n",
              "      background-color: #E8F0FE;\n",
              "      border: none;\n",
              "      border-radius: 50%;\n",
              "      cursor: pointer;\n",
              "      display: none;\n",
              "      fill: #1967D2;\n",
              "      height: 32px;\n",
              "      padding: 0 0 0 0;\n",
              "      width: 32px;\n",
              "    }\n",
              "\n",
              "    .colab-df-convert:hover {\n",
              "      background-color: #E2EBFA;\n",
              "      box-shadow: 0px 1px 2px rgba(60, 64, 67, 0.3), 0px 1px 3px 1px rgba(60, 64, 67, 0.15);\n",
              "      fill: #174EA6;\n",
              "    }\n",
              "\n",
              "    .colab-df-buttons div {\n",
              "      margin-bottom: 4px;\n",
              "    }\n",
              "\n",
              "    [theme=dark] .colab-df-convert {\n",
              "      background-color: #3B4455;\n",
              "      fill: #D2E3FC;\n",
              "    }\n",
              "\n",
              "    [theme=dark] .colab-df-convert:hover {\n",
              "      background-color: #434B5C;\n",
              "      box-shadow: 0px 1px 3px 1px rgba(0, 0, 0, 0.15);\n",
              "      filter: drop-shadow(0px 1px 2px rgba(0, 0, 0, 0.3));\n",
              "      fill: #FFFFFF;\n",
              "    }\n",
              "  </style>\n",
              "\n",
              "    <script>\n",
              "      const buttonEl =\n",
              "        document.querySelector('#df-b20be91b-649e-4ed7-ade8-f9a205776ab8 button.colab-df-convert');\n",
              "      buttonEl.style.display =\n",
              "        google.colab.kernel.accessAllowed ? 'block' : 'none';\n",
              "\n",
              "      async function convertToInteractive(key) {\n",
              "        const element = document.querySelector('#df-b20be91b-649e-4ed7-ade8-f9a205776ab8');\n",
              "        const dataTable =\n",
              "          await google.colab.kernel.invokeFunction('convertToInteractive',\n",
              "                                                    [key], {});\n",
              "        if (!dataTable) return;\n",
              "\n",
              "        const docLinkHtml = 'Like what you see? Visit the ' +\n",
              "          '<a target=\"_blank\" href=https://colab.research.google.com/notebooks/data_table.ipynb>data table notebook</a>'\n",
              "          + ' to learn more about interactive tables.';\n",
              "        element.innerHTML = '';\n",
              "        dataTable['output_type'] = 'display_data';\n",
              "        await google.colab.output.renderOutput(dataTable, element);\n",
              "        const docLink = document.createElement('div');\n",
              "        docLink.innerHTML = docLinkHtml;\n",
              "        element.appendChild(docLink);\n",
              "      }\n",
              "    </script>\n",
              "  </div>\n",
              "\n",
              "    </div>\n",
              "  </div>\n"
            ]
          },
          "metadata": {},
          "execution_count": 20
        }
      ]
    }
  ],
  "metadata": {
    "kernelspec": {
      "display_name": "Python 3 (ipykernel)",
      "language": "python",
      "name": "python3"
    },
    "language_info": {
      "codemirror_mode": {
        "name": "ipython",
        "version": 3
      },
      "file_extension": ".py",
      "mimetype": "text/x-python",
      "name": "python",
      "nbconvert_exporter": "python",
      "pygments_lexer": "ipython3",
      "version": "3.9.16"
    },
    "colab": {
      "provenance": []
    }
  },
  "nbformat": 4,
  "nbformat_minor": 0
}